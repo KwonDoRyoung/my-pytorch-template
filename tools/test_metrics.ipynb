{
 "cells": [
  {
   "cell_type": "code",
   "execution_count": 41,
   "metadata": {},
   "outputs": [
    {
     "name": "stdout",
     "output_type": "stream",
     "text": [
      "torch.Size([2, 8, 8]) torch.Size([2, 8, 8])\n",
      "tensor(35.)\n"
     ]
    },
    {
     "data": {
      "image/png": "[encoded data removed]",
      "text/plain": [
       "<Figure size 400x400 with 4 Axes>"
      ]
     },
     "metadata": {},
     "output_type": "display_data"
    }
   ],
   "source": [
    "import torchmetrics\n",
    "import torch\n",
    "import matplotlib.pyplot as plt\n",
    "predicted = torch.tensor([[[1, 1, 0, 0, 0, 1, 1, 0],\n",
    "                         [1, 1, 0, 0, 1, 0, 0, 1],\n",
    "                         [0, 1, 0, 1, 1, 0, 1, 1],\n",
    "                         [1, 0, 1, 1, 0, 1, 0, 1],\n",
    "                         [0, 1, 0, 1, 0, 0, 0, 1],\n",
    "                         [1, 0, 0, 1, 1, 1, 0, 1],\n",
    "                         [1, 0, 1, 1, 0, 1, 0, 0],\n",
    "                         [0, 1, 0, 0, 1, 1, 1, 1]],\n",
    "                         [[0, 1, 1, 0, 0, 1, 1, 0],\n",
    "                     [1, 1, 0, 0, 1, 0, 0, 1],\n",
    "                     [0, 1, 0, 1, 1, 0, 1, 1],\n",
    "                     [1, 0, 1, 1, 0, 1, 0, 1],\n",
    "                     [0, 1, 0, 1, 0, 0, 0, 1],\n",
    "                     [1, 0, 0, 1, 1, 1, 0, 1],\n",
    "                     [1, 0, 1, 1, 0, 1, 0, 0],\n",
    "                     [0, 1, 0, 0, 1, 1, 1, 1]]], dtype=torch.float32)\n",
    "\n",
    "target = torch.tensor([[[0, 0, 1, 1, 0, 1, 1, 1],\n",
    "                      [1, 0, 0, 1, 1, 1, 1, 0],\n",
    "                      [1, 1, 1, 1, 1, 1, 1, 1],\n",
    "                      [0, 1, 0, 1, 0, 1, 0, 1],\n",
    "                      [0, 1, 0, 1, 0, 0, 0, 1],\n",
    "                      [1, 0, 0, 1, 1, 1, 0, 1],\n",
    "                      [1, 0, 1, 1, 0, 1, 0, 0],\n",
    "                      [1, 1, 0, 0, 1, 1, 1, 1]],\n",
    "                      [[1, 0, 0, 1, 0, 1, 0, 1],\n",
    "                     [1, 0, 1, 0, 1, 1, 0, 0],\n",
    "                     [0, 1, 1, 0, 0, 1, 1, 0],\n",
    "                     [1, 1, 0, 1, 1, 0, 0, 1],\n",
    "                     [0, 1, 0, 1, 0, 0, 0, 1],\n",
    "                     [0, 1, 1, 0, 0, 1, 1, 1],\n",
    "                     [1, 1, 0, 0, 1, 1, 0, 1],\n",
    "                     [0, 0, 1, 1, 0, 0, 1, 0]]], dtype=torch.long)\n",
    "\n",
    "print(predicted.size(), target.size())\n",
    "fig, axs = plt.subplots(2,2, figsize=(4,4))\n",
    "axs[0,0].imshow(predicted[0], cmap=\"gray\")\n",
    "axs[0,1].imshow(target[0], cmap=\"gray\")\n",
    "axs[1,0].imshow(predicted[1], cmap=\"gray\")\n",
    "axs[1,1].imshow(target[1], cmap=\"gray\")\n",
    "print(predicted[0].sum())"
   ]
  },
  {
   "attachments": {
    "image.png": {
     "image/png": "[encoded data removed]"
    }
   },
   "cell_type": "markdown",
   "metadata": {},
   "source": [
    "![image.png](attachment:image.png)"
   ]
  },
  {
   "cell_type": "code",
   "execution_count": 44,
   "metadata": {},
   "outputs": [],
   "source": [
    "import torch\n",
    "from torch import Tensor\n",
    "from torchmetrics import Metric\n",
    "from torchmetrics.utilities import dim_zero_cat\n",
    "\n",
    "class BinaryDiceScore(Metric):\n",
    "    def __init__(self, average = True) -> None:\n",
    "        super().__init__()\n",
    "        self.eps = 1e-6\n",
    "        self.average = average\n",
    "        self.add_state(\"tp_list\", default=[], dist_reduce_fx=\"cat\")\n",
    "        self.add_state(\"fp_list\", default=[], dist_reduce_fx=\"cat\")\n",
    "        self.add_state(\"fn_list\", default=[], dist_reduce_fx=\"cat\")\n",
    "\n",
    "        self.add_state(\"dice_list\", default=[], dist_reduce_fx=\"cat\")\n",
    "        self.add_state(\"total\", default=torch.tensor(0), dist_reduce_fx=\"sum\")\n",
    "\n",
    "    def update(self, preds:Tensor, target: Tensor) -> None:\n",
    "        if preds.shape != target.shape:\n",
    "            raise ValueError(\"preds and target must have the same shape\")\n",
    "        b, h, w = preds.shape\n",
    "        preds = preds.view(-1, h*w)\n",
    "        target = target.view(-1, h*w)\n",
    "        self.total += b\n",
    "        for i in range(b):\n",
    "            tp = torch.sum((preds[i] == 1) & (target[i] == 1))\n",
    "            fp = torch.sum((preds[i] == 1) & (target[i] == 0))\n",
    "            fn = torch.sum((preds[i] == 0) & (target[i] == 1))\n",
    "            self.tp_list.append(tp)\n",
    "            self.fp_list.append(fp)\n",
    "            self.fn_list.append(fn)\n",
    "\n",
    "    def compute(self) -> Tensor:\n",
    "        tp_list = dim_zero_cat(self.tp_list)\n",
    "        fp_list = dim_zero_cat(self.fp_list)\n",
    "        fn_list = dim_zero_cat(self.fn_list)\n",
    "        dice_list = torch.divide(2*tp_list,(2*tp_list + fp_list + fn_list + self.eps))\n",
    "        if self.average:\n",
    "            return dice_list.mean()\n",
    "        else:\n",
    "            return dice_list\n"
   ]
  },
  {
   "cell_type": "code",
   "execution_count": 46,
   "metadata": {},
   "outputs": [
    {
     "data": {
      "text/plain": [
       "tensor([0.7733, 0.4706])"
      ]
     },
     "execution_count": 46,
     "metadata": {},
     "output_type": "execute_result"
    }
   ],
   "source": [
    "dice = BinaryDiceScore(average=False)\n",
    "dice.update(predicted, target)\n",
    "dice.compute()"
   ]
  },
  {
   "cell_type": "code",
   "execution_count": null,
   "metadata": {},
   "outputs": [],
   "source": []
  },
  {
   "cell_type": "code",
   "execution_count": null,
   "metadata": {},
   "outputs": [],
   "source": []
  }
 ],
 "metadata": {
  "kernelspec": {
   "display_name": "py3.9torch2.0",
   "language": "python",
   "name": "python3"
  },
  "language_info": {
   "codemirror_mode": {
    "name": "ipython",
    "version": 3
   },
   "file_extension": ".py",
   "mimetype": "text/x-python",
   "name": "python",
   "nbconvert_exporter": "python",
   "pygments_lexer": "ipython3",
   "version": "3.9.16"
  }
 },
 "nbformat": 4,
 "nbformat_minor": 2
}
